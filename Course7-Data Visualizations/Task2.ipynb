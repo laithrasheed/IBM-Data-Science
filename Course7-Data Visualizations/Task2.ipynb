{
 "cells": [
  {
   "cell_type": "code",
   "execution_count": 1,
   "id": "230af81f",
   "metadata": {},
   "outputs": [
    {
     "ename": "ObsoleteAttributeException",
     "evalue": "app.run_server has been replaced by app.run",
     "output_type": "error",
     "traceback": [
      "\u001b[1;31m---------------------------------------------------------------------------\u001b[0m",
      "\u001b[1;31mObsoleteAttributeException\u001b[0m                Traceback (most recent call last)",
      "Cell \u001b[1;32mIn[1], line 46\u001b[0m\n\u001b[0;32m     44\u001b[0m \u001b[38;5;66;03m# Step 6: Run the app\u001b[39;00m\n\u001b[0;32m     45\u001b[0m \u001b[38;5;28;01mif\u001b[39;00m \u001b[38;5;18m__name__\u001b[39m \u001b[38;5;241m==\u001b[39m \u001b[38;5;124m'\u001b[39m\u001b[38;5;124m__main__\u001b[39m\u001b[38;5;124m'\u001b[39m:\n\u001b[1;32m---> 46\u001b[0m     app\u001b[38;5;241m.\u001b[39mrun_server(debug\u001b[38;5;241m=\u001b[39m\u001b[38;5;28;01mTrue\u001b[39;00m)\n",
      "File \u001b[1;32md:\\Anaconda\\Lib\\site-packages\\dash\\_obsolete.py:22\u001b[0m, in \u001b[0;36mObsoleteChecker.__getattr__\u001b[1;34m(self, name)\u001b[0m\n\u001b[0;32m     20\u001b[0m \u001b[38;5;28;01mif\u001b[39;00m name \u001b[38;5;129;01min\u001b[39;00m \u001b[38;5;28mself\u001b[39m\u001b[38;5;241m.\u001b[39m_obsolete_attributes:\n\u001b[0;32m     21\u001b[0m     err \u001b[38;5;241m=\u001b[39m \u001b[38;5;28mself\u001b[39m\u001b[38;5;241m.\u001b[39m_obsolete_attributes[name]\n\u001b[1;32m---> 22\u001b[0m     \u001b[38;5;28;01mraise\u001b[39;00m err\u001b[38;5;241m.\u001b[39mexc(err\u001b[38;5;241m.\u001b[39mmessage)\n\u001b[0;32m     23\u001b[0m \u001b[38;5;28;01mreturn\u001b[39;00m \u001b[38;5;28mgetattr\u001b[39m(\u001b[38;5;28mself\u001b[39m\u001b[38;5;241m.\u001b[39m\u001b[38;5;18m__dict__\u001b[39m, name)\n",
      "\u001b[1;31mObsoleteAttributeException\u001b[0m: app.run_server has been replaced by app.run"
     ]
    }
   ],
   "source": [
    "# Step 1: Import necessary libraries\n",
    "import dash\n",
    "from dash import dcc, html\n",
    "import plotly.express as px\n",
    "import pandas as pd\n",
    "\n",
    "# Step 2: Create a Dash app instance\n",
    "app = dash.Dash(__name__)\n",
    "\n",
    "# Step 3: Prepare a dataset (for example, the built-in iris dataset)\n",
    "df = px.data.iris()\n",
    "\n",
    "# Step 4: Define the layout of the application\n",
    "app.layout = html.Div([\n",
    "    html.H1(\"Dash App: Interactive Plot Example\"),\n",
    "    \n",
    "    # Dropdown for selecting a feature\n",
    "    html.Label(\"Select a Feature:\"),\n",
    "    dcc.Dropdown(\n",
    "        id='feature-dropdown',\n",
    "        options=[\n",
    "            {'label': 'Sepal Length', 'value': 'sepal_length'},\n",
    "            {'label': 'Sepal Width', 'value': 'sepal_width'},\n",
    "            {'label': 'Petal Length', 'value': 'petal_length'},\n",
    "            {'label': 'Petal Width', 'value': 'petal_width'}\n",
    "        ],\n",
    "        value='sepal_length'  # Default value\n",
    "    ),\n",
    "    \n",
    "    # Graph to display the plot\n",
    "    dcc.Graph(id='scatter-plot')\n",
    "])\n",
    "\n",
    "# Step 5: Define callback function to update graph based on dropdown selection\n",
    "@app.callback(\n",
    "    dash.dependencies.Output('scatter-plot', 'figure'),\n",
    "    [dash.dependencies.Input('feature-dropdown', 'value')]\n",
    ")\n",
    "def update_graph(selected_feature):\n",
    "    # Create a scatter plot based on the selected feature\n",
    "    fig = px.scatter(df, x='species', y=selected_feature, color='species', title=f\"{selected_feature} by Species\")\n",
    "    return fig\n",
    "\n",
    "# Step 6: Run the app\n",
    "if __name__ == '__main__':\n",
    "    app.run_server(debug=True)\n"
   ]
  }
 ],
 "metadata": {
  "kernelspec": {
   "display_name": "base",
   "language": "python",
   "name": "python3"
  },
  "language_info": {
   "codemirror_mode": {
    "name": "ipython",
    "version": 3
   },
   "file_extension": ".py",
   "mimetype": "text/x-python",
   "name": "python",
   "nbconvert_exporter": "python",
   "pygments_lexer": "ipython3",
   "version": "3.12.4"
  }
 },
 "nbformat": 4,
 "nbformat_minor": 5
}
