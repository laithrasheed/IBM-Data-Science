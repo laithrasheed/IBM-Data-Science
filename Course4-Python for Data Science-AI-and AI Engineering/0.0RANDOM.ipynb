{
 "cells": [
  {
   "cell_type": "code",
   "execution_count": 1,
   "id": "b3b7c7ae",
   "metadata": {},
   "outputs": [],
   "source": [
    "def ArtistNames (*names):\n",
    "    for name in names:\n",
    "        print(name)"
   ]
  },
  {
   "cell_type": "code",
   "execution_count": 2,
   "id": "3f2378fe",
   "metadata": {},
   "outputs": [
    {
     "name": "stdout",
     "output_type": "stream",
     "text": [
      "Laith\n",
      "Ghaith\n",
      "Haitham\n"
     ]
    }
   ],
   "source": [
    "ArtistNames(\"Laith\", \"Ghaith\", \"Haitham\")"
   ]
  },
  {
   "cell_type": "code",
   "execution_count": 3,
   "id": "e17df651",
   "metadata": {},
   "outputs": [],
   "source": [
    "def AddDC (x):\n",
    "    x = x + \"DC\"\n",
    "    print(x)\n",
    "    return x"
   ]
  },
  {
   "cell_type": "code",
   "execution_count": 5,
   "id": "92269a26",
   "metadata": {},
   "outputs": [
    {
     "name": "stdout",
     "output_type": "stream",
     "text": [
      "ACDC\n"
     ]
    }
   ],
   "source": [
    "x = \"AC\"\n",
    "z = AddDC(x)"
   ]
  },
  {
   "cell_type": "code",
   "execution_count": 6,
   "id": "e8385e05",
   "metadata": {},
   "outputs": [
    {
     "data": {
      "text/plain": [
       "'AC'"
      ]
     },
     "execution_count": 6,
     "metadata": {},
     "output_type": "execute_result"
    }
   ],
   "source": [
    "x"
   ]
  },
  {
   "cell_type": "code",
   "execution_count": 7,
   "id": "127d09c2",
   "metadata": {},
   "outputs": [
    {
     "data": {
      "text/plain": [
       "'ACDC'"
      ]
     },
     "execution_count": 7,
     "metadata": {},
     "output_type": "execute_result"
    }
   ],
   "source": [
    "z"
   ]
  },
  {
   "cell_type": "code",
   "execution_count": 8,
   "id": "913c139e",
   "metadata": {},
   "outputs": [],
   "source": [
    "def Thriller ():\n",
    "    date = 1982\n",
    "    return date"
   ]
  },
  {
   "cell_type": "code",
   "execution_count": 9,
   "id": "2db4f17b",
   "metadata": {},
   "outputs": [
    {
     "data": {
      "text/plain": [
       "1982"
      ]
     },
     "execution_count": 9,
     "metadata": {},
     "output_type": "execute_result"
    }
   ],
   "source": [
    "Thriller()"
   ]
  },
  {
   "cell_type": "code",
   "execution_count": 11,
   "id": "fe46864d",
   "metadata": {},
   "outputs": [],
   "source": [
    "def MyFunction (x, y):\n",
    "    z = x + y\n",
    "    print(z)"
   ]
  },
  {
   "cell_type": "code",
   "execution_count": 12,
   "id": "2c05aea8",
   "metadata": {},
   "outputs": [
    {
     "name": "stdout",
     "output_type": "stream",
     "text": [
      "15\n"
     ]
    }
   ],
   "source": [
    "z = MyFunction(5,10)"
   ]
  },
  {
   "cell_type": "code",
   "execution_count": 14,
   "id": "1664a886",
   "metadata": {},
   "outputs": [
    {
     "name": "stdout",
     "output_type": "stream",
     "text": [
      "None\n"
     ]
    }
   ],
   "source": [
    "print(z)"
   ]
  },
  {
   "cell_type": "code",
   "execution_count": 15,
   "id": "e3a172d6",
   "metadata": {},
   "outputs": [],
   "source": [
    "def MyFunctionCorrected (x, y):\n",
    "    z = x + y\n",
    "    return z"
   ]
  },
  {
   "cell_type": "code",
   "execution_count": 16,
   "id": "14bb2397",
   "metadata": {},
   "outputs": [
    {
     "name": "stdout",
     "output_type": "stream",
     "text": [
      "15\n"
     ]
    }
   ],
   "source": [
    "t = MyFunctionCorrected(5, 10)\n",
    "print(t)"
   ]
  },
  {
   "cell_type": "code",
   "execution_count": null,
   "id": "567d9292",
   "metadata": {},
   "outputs": [],
   "source": []
  }
 ],
 "metadata": {
  "kernelspec": {
   "display_name": "base",
   "language": "python",
   "name": "python3"
  },
  "language_info": {
   "codemirror_mode": {
    "name": "ipython",
    "version": 3
   },
   "file_extension": ".py",
   "mimetype": "text/x-python",
   "name": "python",
   "nbconvert_exporter": "python",
   "pygments_lexer": "ipython3",
   "version": "3.12.4"
  }
 },
 "nbformat": 4,
 "nbformat_minor": 5
}
